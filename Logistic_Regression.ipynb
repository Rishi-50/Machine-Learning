{
  "nbformat": 4,
  "nbformat_minor": 0,
  "metadata": {
    "colab": {
      "provenance": []
    },
    "kernelspec": {
      "name": "python3",
      "display_name": "Python 3"
    },
    "language_info": {
      "name": "python"
    }
  },
  "cells": [
    {
      "cell_type": "markdown",
      "source": [
        "## **Logistic Regression**"
      ],
      "metadata": {
        "id": "r1LWbrCBsclX"
      }
    },
    {
      "cell_type": "code",
      "execution_count": 1,
      "metadata": {
        "id": "AKkmQvOKWPhD"
      },
      "outputs": [],
      "source": [
        "import numpy as np\n",
        "import pandas as pd\n",
        "import matplotlib.pyplot as plt\n",
        "import scipy as stats\n",
        "import math"
      ]
    },
    {
      "cell_type": "code",
      "source": [
        "from sklearn.datasets import make_classification"
      ],
      "metadata": {
        "id": "XgkqCkEIW6KV"
      },
      "execution_count": 2,
      "outputs": []
    },
    {
      "cell_type": "code",
      "source": [
        "X,y = make_classification(n_features=4,n_classes=2)"
      ],
      "metadata": {
        "id": "clgyfIiAcshl"
      },
      "execution_count": 3,
      "outputs": []
    },
    {
      "cell_type": "code",
      "source": [
        "print(X)"
      ],
      "metadata": {
        "colab": {
          "base_uri": "https://localhost:8080/"
        },
        "id": "_ridGDQndDZb",
        "outputId": "0e3b87c6-1ca1-4e54-d9f5-c6b70235a90a"
      },
      "execution_count": 4,
      "outputs": [
        {
          "output_type": "stream",
          "name": "stdout",
          "text": [
            "[[ 0.36501459 -0.12534977  1.95795894 -0.94559793]\n",
            " [ 2.23175682 -0.24075106 -1.96354504 -1.56769139]\n",
            " [ 2.29051521 -0.24448012 -2.08441798 -1.58804741]\n",
            " [ 1.12307169 -0.1174164  -1.08711628 -0.75895678]\n",
            " [ 1.61018738 -0.2339095   0.17945913 -1.61373771]\n",
            " [-0.67440507  0.14021449 -1.1950417   1.01453952]\n",
            " [ 1.54325518 -0.16354552 -1.43554793 -1.06054075]\n",
            " [-1.09458192  0.24129039 -2.30323666  1.75659629]\n",
            " [-1.77044385  0.32153907 -1.90317773  2.29019344]\n",
            " [ 0.6966694  -0.0717363  -0.70352626 -0.46198167]\n",
            " [ 0.63711549 -0.14413932  1.43853125 -1.05205495]\n",
            " [-0.73683334  0.07529447  0.75939534  0.4839859 ]\n",
            " [-1.59380488  0.21354044  0.299248    1.45311172]\n",
            " [-0.56216681  0.05831231  0.55641241  0.37620239]\n",
            " [ 1.40900605 -0.21518492  0.43540431 -1.49629017]\n",
            " [-1.47040366  0.27801363 -1.87135318  1.98998024]\n",
            " [ 1.42538362 -0.21552769  0.38324673 -1.4963796 ]\n",
            " [ 0.57152486 -0.14215841  1.63129587 -1.04682169]\n",
            " [ 1.33252219 -0.20779048  0.52539534 -1.44942839]\n",
            " [ 0.66100727 -0.06810301 -0.66648328 -0.4386445 ]\n",
            " [ 1.00580662 -0.10048892 -1.09733766 -0.64229441]\n",
            " [ 0.77802019 -0.07988196 -0.79180308 -0.51407545]\n",
            " [-0.67075444  0.18054202 -2.27774874  1.33841103]\n",
            " [-0.92269704  0.19962177 -1.84139638  1.45046641]\n",
            " [ 1.54004024 -0.22806861  0.2869375  -1.57830117]\n",
            " [ 0.84687125 -0.0856828  -0.89549642 -0.54940131]\n",
            " [-1.45404687  0.1957438   0.24839762  1.33313278]\n",
            " [ 1.56059498 -0.16299639 -1.51494738 -1.05332425]\n",
            " [-2.04248325  0.34868282 -1.60544412  2.46363047]\n",
            " [-0.66027107  0.13842755 -1.20052542  1.00250897]\n",
            " [ 1.75923447 -0.18645349 -1.63593141 -1.20912181]\n",
            " [-2.13067886  0.24585618  1.45022898  1.62502231]\n",
            " [-1.65598824  0.22789453  0.15126675  1.55808549]\n",
            " [ 1.30606196 -0.25197191  1.79556359 -1.80789644]\n",
            " [ 0.97954498 -0.10456693 -0.89102659 -0.67924776]\n",
            " [ 1.18115194 -0.19645943  0.79106839 -1.38316467]\n",
            " [ 0.78276792 -0.15765803  1.25223357 -1.13678381]\n",
            " [ 1.10615062 -0.11610095 -1.0587114  -0.75115824]\n",
            " [-0.9712899   0.1873889  -1.33539742  1.34451622]\n",
            " [ 1.18363123 -0.19519792  0.74835531 -1.37264958]\n",
            " [ 0.61025415 -0.05890042 -0.7206454  -0.37311155]\n",
            " [ 1.58302043 -0.16724406 -1.48620499 -1.08373494]\n",
            " [ 0.21604128 -0.10849319  2.06819076 -0.83465071]\n",
            " [-0.49413968  0.05119722  0.49064006  0.33020732]\n",
            " [ 0.14111437 -0.10308801  2.20509357 -0.80348283]\n",
            " [ 0.97273491 -0.17564157  1.01858    -1.25011114]\n",
            " [-1.00608801  0.23664908 -2.51112317  1.73375397]\n",
            " [ 0.91248468 -0.17469833  1.21888211 -1.25232938]\n",
            " [-1.94776175  0.25990372  0.39381662  1.76732243]\n",
            " [-1.19555842  0.14378285  0.65922501  0.95855329]\n",
            " [ 1.00251939 -0.17893563  0.99452382 -1.27168295]\n",
            " [ 0.54674059 -0.05145073 -0.68062157 -0.32370161]\n",
            " [ 1.11132523 -0.23261367  2.01061086 -1.68432312]\n",
            " [-0.04137301  0.04040236 -0.91632395  0.31716329]\n",
            " [ 1.15019842 -0.18941276  0.72001736 -1.33170053]\n",
            " [ 0.62035859 -0.06066527 -0.71164636 -0.385619  ]\n",
            " [-1.2181698   0.16432781  0.19914788  1.11957831]\n",
            " [ 1.36984459 -0.20829446  0.3991878  -1.44741046]\n",
            " [ 0.21037512 -0.07257553  1.13722662 -0.54764245]\n",
            " [ 0.90937579 -0.09345902 -0.92309082 -0.60159263]\n",
            " [-0.11648744 -0.035345    1.37257864 -0.30224507]\n",
            " [-0.47741913  0.06744531 -0.00261247  0.46317143]\n",
            " [-0.6516785   0.05184751  1.06252044  0.30984919]\n",
            " [ 1.14930907 -0.19081025  0.76038966 -1.34304764]\n",
            " [ 2.0528557  -0.21928568 -1.86357378 -1.42465627]\n",
            " [-1.51256769  0.28401909 -1.87288083  2.03127816]\n",
            " [-0.9580996   0.16752767 -0.85821526  1.18744302]\n",
            " [ 1.29753312 -0.13701671 -1.21992696 -0.88776151]\n",
            " [ 1.3411165  -0.21459295  0.6735857  -1.5025643 ]\n",
            " [-0.98895659  0.11797992  0.57065223  0.78524311]\n",
            " [-1.34945555  0.16915401  0.56215364  1.13695705]\n",
            " [-0.56243579  0.10966335 -0.80386268  0.78780575]\n",
            " [ 0.95655904 -0.17429461  1.04336316 -1.24193912]\n",
            " [-0.5713164   0.04293216  0.99834496  0.2514248 ]\n",
            " [ 1.11792111 -0.19139991  0.89339669 -1.35286924]\n",
            " [ 1.36265881 -0.1397315  -1.39149834 -0.89895324]\n",
            " [-1.46510191  0.26933899 -1.66122031  1.92130198]\n",
            " [-0.99003654  0.0712651   1.81306876  0.41058624]\n",
            " [ 0.71048424 -0.15437074  1.43539571 -1.12216456]\n",
            " [ 0.22409693 -0.11165738  2.12194687 -0.85870831]\n",
            " [-1.64794876  0.29587682 -1.68096153  2.10435922]\n",
            " [-0.48330404  0.06906635 -0.02357853  0.47521105]\n",
            " [-1.33691184  0.18684868  0.04617258  1.28083947]\n",
            " [-0.5123845   0.1015812  -0.77677804  0.73114066]\n",
            " [-1.05577677  0.21057349 -1.63406516  1.5166581 ]\n",
            " [ 2.54426232 -0.2735319  -2.2631666  -1.77974902]\n",
            " [-0.69585696  0.04675863  1.36262912  0.26188423]\n",
            " [-0.60106128  0.02278332  1.64370826  0.08507697]\n",
            " [-1.05555058  0.22512067 -2.02054694  1.63330989]\n",
            " [-1.13456064  0.09695743  1.67243282  0.593086  ]\n",
            " [-1.49722442  0.19010498  0.559342    1.28092174]\n",
            " [-0.43434763  0.00364362  1.52766024 -0.041293  ]\n",
            " [-1.33782285  0.25019347 -1.62964788  1.78848455]\n",
            " [ 0.31912245 -0.03275475 -0.32505743 -0.21077443]\n",
            " [-1.83406324  0.23854734  0.53478243  1.61457758]\n",
            " [ 0.88294246 -0.08895963 -0.94351872 -0.56981457]\n",
            " [ 1.81830911 -0.25041066 -0.16138092 -1.71223509]\n",
            " [-2.10427507  0.29841593 -0.04183162  2.05064455]\n",
            " [ 1.29423286 -0.13515378 -1.25697067 -0.87336331]\n",
            " [-1.55660991  0.29389301 -1.96993514  2.10328205]]\n"
          ]
        }
      ]
    },
    {
      "cell_type": "code",
      "source": [
        "print(X.shape)"
      ],
      "metadata": {
        "colab": {
          "base_uri": "https://localhost:8080/"
        },
        "id": "e1nYqRUIf29S",
        "outputId": "7913d89c-7855-4d3d-92c9-8bbbf2d899f8"
      },
      "execution_count": 5,
      "outputs": [
        {
          "output_type": "stream",
          "name": "stdout",
          "text": [
            "(100, 4)\n"
          ]
        }
      ]
    },
    {
      "cell_type": "code",
      "source": [
        "X_df= pd.DataFrame(X,columns=['feature_1','feature_2','feature_3','feature_4'])"
      ],
      "metadata": {
        "id": "T2bGQtVFf9Oa"
      },
      "execution_count": 6,
      "outputs": []
    },
    {
      "cell_type": "code",
      "source": [
        "y_df = pd.DataFrame(y,columns=['target'])"
      ],
      "metadata": {
        "id": "hXF5AHXXf9Qy"
      },
      "execution_count": 7,
      "outputs": []
    },
    {
      "cell_type": "code",
      "source": [
        "df = pd.concat([X_df,y_df],axis=1)"
      ],
      "metadata": {
        "id": "OQRt6iOuhRUW"
      },
      "execution_count": 8,
      "outputs": []
    },
    {
      "cell_type": "code",
      "source": [
        "print(df)"
      ],
      "metadata": {
        "colab": {
          "base_uri": "https://localhost:8080/"
        },
        "id": "YZAzPnyigtK_",
        "outputId": "5e0e5586-e2a0-4dd7-ff5e-c122c7a04b99"
      },
      "execution_count": 9,
      "outputs": [
        {
          "output_type": "stream",
          "name": "stdout",
          "text": [
            "    feature_1  feature_2  feature_3  feature_4  target\n",
            "0    0.365015  -0.125350   1.957959  -0.945598       1\n",
            "1    2.231757  -0.240751  -1.963545  -1.567691       0\n",
            "2    2.290515  -0.244480  -2.084418  -1.588047       0\n",
            "3    1.123072  -0.117416  -1.087116  -0.758957       0\n",
            "4    1.610187  -0.233909   0.179459  -1.613738       1\n",
            "..        ...        ...        ...        ...     ...\n",
            "95   0.882942  -0.088960  -0.943519  -0.569815       0\n",
            "96   1.818309  -0.250411  -0.161381  -1.712235       1\n",
            "97  -2.104275   0.298416  -0.041832   2.050645       1\n",
            "98   1.294233  -0.135154  -1.256971  -0.873363       0\n",
            "99  -1.556610   0.293893  -1.969935   2.103282       0\n",
            "\n",
            "[100 rows x 5 columns]\n"
          ]
        }
      ]
    },
    {
      "cell_type": "markdown",
      "source": [
        "**split dataset**"
      ],
      "metadata": {
        "id": "g9ozczoqiObz"
      }
    },
    {
      "cell_type": "code",
      "source": [
        "from sklearn.model_selection import train_test_split"
      ],
      "metadata": {
        "id": "X08Rg8mUdjBm"
      },
      "execution_count": 10,
      "outputs": []
    },
    {
      "cell_type": "code",
      "source": [
        "X_train,X_test,y_train,y_test = train_test_split(X_df,y_df,test_size=0.1,random_state=41) "
      ],
      "metadata": {
        "id": "g4WPZu6UeUdw"
      },
      "execution_count": 11,
      "outputs": []
    },
    {
      "cell_type": "code",
      "source": [],
      "metadata": {
        "id": "1SSNevWofMC5"
      },
      "execution_count": 11,
      "outputs": []
    },
    {
      "cell_type": "markdown",
      "source": [
        "**standardize data**"
      ],
      "metadata": {
        "id": "2HRr9j_-iZ5y"
      }
    },
    {
      "cell_type": "code",
      "source": [
        "from sklearn.preprocessing import StandardScaler"
      ],
      "metadata": {
        "id": "jbqe_S2Giecb"
      },
      "execution_count": 12,
      "outputs": []
    },
    {
      "cell_type": "code",
      "source": [
        "scaler = StandardScaler()"
      ],
      "metadata": {
        "id": "fwblXAHiieei"
      },
      "execution_count": 13,
      "outputs": []
    },
    {
      "cell_type": "code",
      "source": [
        "data = scaler.fit_transform(df)"
      ],
      "metadata": {
        "id": "qiXS3g76fLDR"
      },
      "execution_count": 14,
      "outputs": []
    },
    {
      "cell_type": "code",
      "source": [
        "df"
      ],
      "metadata": {
        "colab": {
          "base_uri": "https://localhost:8080/",
          "height": 423
        },
        "id": "BGD8UI-djCHj",
        "outputId": "754ff037-c3dd-4d83-e7e7-51a6416b1043"
      },
      "execution_count": 15,
      "outputs": [
        {
          "output_type": "execute_result",
          "data": {
            "text/plain": [
              "    feature_1  feature_2  feature_3  feature_4  target\n",
              "0    0.365015  -0.125350   1.957959  -0.945598       1\n",
              "1    2.231757  -0.240751  -1.963545  -1.567691       0\n",
              "2    2.290515  -0.244480  -2.084418  -1.588047       0\n",
              "3    1.123072  -0.117416  -1.087116  -0.758957       0\n",
              "4    1.610187  -0.233909   0.179459  -1.613738       1\n",
              "..        ...        ...        ...        ...     ...\n",
              "95   0.882942  -0.088960  -0.943519  -0.569815       0\n",
              "96   1.818309  -0.250411  -0.161381  -1.712235       1\n",
              "97  -2.104275   0.298416  -0.041832   2.050645       1\n",
              "98   1.294233  -0.135154  -1.256971  -0.873363       0\n",
              "99  -1.556610   0.293893  -1.969935   2.103282       0\n",
              "\n",
              "[100 rows x 5 columns]"
            ],
            "text/html": [
              "\n",
              "  <div id=\"df-83ec7c51-089d-46d3-ab1f-9c3f56a4ef3d\">\n",
              "    <div class=\"colab-df-container\">\n",
              "      <div>\n",
              "<style scoped>\n",
              "    .dataframe tbody tr th:only-of-type {\n",
              "        vertical-align: middle;\n",
              "    }\n",
              "\n",
              "    .dataframe tbody tr th {\n",
              "        vertical-align: top;\n",
              "    }\n",
              "\n",
              "    .dataframe thead th {\n",
              "        text-align: right;\n",
              "    }\n",
              "</style>\n",
              "<table border=\"1\" class=\"dataframe\">\n",
              "  <thead>\n",
              "    <tr style=\"text-align: right;\">\n",
              "      <th></th>\n",
              "      <th>feature_1</th>\n",
              "      <th>feature_2</th>\n",
              "      <th>feature_3</th>\n",
              "      <th>feature_4</th>\n",
              "      <th>target</th>\n",
              "    </tr>\n",
              "  </thead>\n",
              "  <tbody>\n",
              "    <tr>\n",
              "      <th>0</th>\n",
              "      <td>0.365015</td>\n",
              "      <td>-0.125350</td>\n",
              "      <td>1.957959</td>\n",
              "      <td>-0.945598</td>\n",
              "      <td>1</td>\n",
              "    </tr>\n",
              "    <tr>\n",
              "      <th>1</th>\n",
              "      <td>2.231757</td>\n",
              "      <td>-0.240751</td>\n",
              "      <td>-1.963545</td>\n",
              "      <td>-1.567691</td>\n",
              "      <td>0</td>\n",
              "    </tr>\n",
              "    <tr>\n",
              "      <th>2</th>\n",
              "      <td>2.290515</td>\n",
              "      <td>-0.244480</td>\n",
              "      <td>-2.084418</td>\n",
              "      <td>-1.588047</td>\n",
              "      <td>0</td>\n",
              "    </tr>\n",
              "    <tr>\n",
              "      <th>3</th>\n",
              "      <td>1.123072</td>\n",
              "      <td>-0.117416</td>\n",
              "      <td>-1.087116</td>\n",
              "      <td>-0.758957</td>\n",
              "      <td>0</td>\n",
              "    </tr>\n",
              "    <tr>\n",
              "      <th>4</th>\n",
              "      <td>1.610187</td>\n",
              "      <td>-0.233909</td>\n",
              "      <td>0.179459</td>\n",
              "      <td>-1.613738</td>\n",
              "      <td>1</td>\n",
              "    </tr>\n",
              "    <tr>\n",
              "      <th>...</th>\n",
              "      <td>...</td>\n",
              "      <td>...</td>\n",
              "      <td>...</td>\n",
              "      <td>...</td>\n",
              "      <td>...</td>\n",
              "    </tr>\n",
              "    <tr>\n",
              "      <th>95</th>\n",
              "      <td>0.882942</td>\n",
              "      <td>-0.088960</td>\n",
              "      <td>-0.943519</td>\n",
              "      <td>-0.569815</td>\n",
              "      <td>0</td>\n",
              "    </tr>\n",
              "    <tr>\n",
              "      <th>96</th>\n",
              "      <td>1.818309</td>\n",
              "      <td>-0.250411</td>\n",
              "      <td>-0.161381</td>\n",
              "      <td>-1.712235</td>\n",
              "      <td>1</td>\n",
              "    </tr>\n",
              "    <tr>\n",
              "      <th>97</th>\n",
              "      <td>-2.104275</td>\n",
              "      <td>0.298416</td>\n",
              "      <td>-0.041832</td>\n",
              "      <td>2.050645</td>\n",
              "      <td>1</td>\n",
              "    </tr>\n",
              "    <tr>\n",
              "      <th>98</th>\n",
              "      <td>1.294233</td>\n",
              "      <td>-0.135154</td>\n",
              "      <td>-1.256971</td>\n",
              "      <td>-0.873363</td>\n",
              "      <td>0</td>\n",
              "    </tr>\n",
              "    <tr>\n",
              "      <th>99</th>\n",
              "      <td>-1.556610</td>\n",
              "      <td>0.293893</td>\n",
              "      <td>-1.969935</td>\n",
              "      <td>2.103282</td>\n",
              "      <td>0</td>\n",
              "    </tr>\n",
              "  </tbody>\n",
              "</table>\n",
              "<p>100 rows × 5 columns</p>\n",
              "</div>\n",
              "      <button class=\"colab-df-convert\" onclick=\"convertToInteractive('df-83ec7c51-089d-46d3-ab1f-9c3f56a4ef3d')\"\n",
              "              title=\"Convert this dataframe to an interactive table.\"\n",
              "              style=\"display:none;\">\n",
              "        \n",
              "  <svg xmlns=\"http://www.w3.org/2000/svg\" height=\"24px\"viewBox=\"0 0 24 24\"\n",
              "       width=\"24px\">\n",
              "    <path d=\"M0 0h24v24H0V0z\" fill=\"none\"/>\n",
              "    <path d=\"M18.56 5.44l.94 2.06.94-2.06 2.06-.94-2.06-.94-.94-2.06-.94 2.06-2.06.94zm-11 1L8.5 8.5l.94-2.06 2.06-.94-2.06-.94L8.5 2.5l-.94 2.06-2.06.94zm10 10l.94 2.06.94-2.06 2.06-.94-2.06-.94-.94-2.06-.94 2.06-2.06.94z\"/><path d=\"M17.41 7.96l-1.37-1.37c-.4-.4-.92-.59-1.43-.59-.52 0-1.04.2-1.43.59L10.3 9.45l-7.72 7.72c-.78.78-.78 2.05 0 2.83L4 21.41c.39.39.9.59 1.41.59.51 0 1.02-.2 1.41-.59l7.78-7.78 2.81-2.81c.8-.78.8-2.07 0-2.86zM5.41 20L4 18.59l7.72-7.72 1.47 1.35L5.41 20z\"/>\n",
              "  </svg>\n",
              "      </button>\n",
              "      \n",
              "  <style>\n",
              "    .colab-df-container {\n",
              "      display:flex;\n",
              "      flex-wrap:wrap;\n",
              "      gap: 12px;\n",
              "    }\n",
              "\n",
              "    .colab-df-convert {\n",
              "      background-color: #E8F0FE;\n",
              "      border: none;\n",
              "      border-radius: 50%;\n",
              "      cursor: pointer;\n",
              "      display: none;\n",
              "      fill: #1967D2;\n",
              "      height: 32px;\n",
              "      padding: 0 0 0 0;\n",
              "      width: 32px;\n",
              "    }\n",
              "\n",
              "    .colab-df-convert:hover {\n",
              "      background-color: #E2EBFA;\n",
              "      box-shadow: 0px 1px 2px rgba(60, 64, 67, 0.3), 0px 1px 3px 1px rgba(60, 64, 67, 0.15);\n",
              "      fill: #174EA6;\n",
              "    }\n",
              "\n",
              "    [theme=dark] .colab-df-convert {\n",
              "      background-color: #3B4455;\n",
              "      fill: #D2E3FC;\n",
              "    }\n",
              "\n",
              "    [theme=dark] .colab-df-convert:hover {\n",
              "      background-color: #434B5C;\n",
              "      box-shadow: 0px 1px 3px 1px rgba(0, 0, 0, 0.15);\n",
              "      filter: drop-shadow(0px 1px 2px rgba(0, 0, 0, 0.3));\n",
              "      fill: #FFFFFF;\n",
              "    }\n",
              "  </style>\n",
              "\n",
              "      <script>\n",
              "        const buttonEl =\n",
              "          document.querySelector('#df-83ec7c51-089d-46d3-ab1f-9c3f56a4ef3d button.colab-df-convert');\n",
              "        buttonEl.style.display =\n",
              "          google.colab.kernel.accessAllowed ? 'block' : 'none';\n",
              "\n",
              "        async function convertToInteractive(key) {\n",
              "          const element = document.querySelector('#df-83ec7c51-089d-46d3-ab1f-9c3f56a4ef3d');\n",
              "          const dataTable =\n",
              "            await google.colab.kernel.invokeFunction('convertToInteractive',\n",
              "                                                     [key], {});\n",
              "          if (!dataTable) return;\n",
              "\n",
              "          const docLinkHtml = 'Like what you see? Visit the ' +\n",
              "            '<a target=\"_blank\" href=https://colab.research.google.com/notebooks/data_table.ipynb>data table notebook</a>'\n",
              "            + ' to learn more about interactive tables.';\n",
              "          element.innerHTML = '';\n",
              "          dataTable['output_type'] = 'display_data';\n",
              "          await google.colab.output.renderOutput(dataTable, element);\n",
              "          const docLink = document.createElement('div');\n",
              "          docLink.innerHTML = docLinkHtml;\n",
              "          element.appendChild(docLink);\n",
              "        }\n",
              "      </script>\n",
              "    </div>\n",
              "  </div>\n",
              "  "
            ]
          },
          "metadata": {},
          "execution_count": 15
        }
      ]
    },
    {
      "cell_type": "code",
      "source": [
        "data"
      ],
      "metadata": {
        "colab": {
          "base_uri": "https://localhost:8080/"
        },
        "id": "wivRbgTIizzj",
        "outputId": "db3d3960-06cc-4a58-8f7c-ec7b8e3b4159"
      },
      "execution_count": 16,
      "outputs": [
        {
          "output_type": "execute_result",
          "data": {
            "text/plain": [
              "array([[ 0.24199399, -0.67634409,  1.64151471, -0.74057161,  1.        ],\n",
              "       [ 1.77894654, -1.32220845, -1.41732056, -1.24076967, -1.        ],\n",
              "       [ 1.82732432, -1.34307885, -1.51160337, -1.25713706, -1.        ],\n",
              "       [ 0.86612826, -0.63194357, -0.73369223, -0.59050166, -1.        ],\n",
              "       [ 1.26718722, -1.28391842,  0.25425666, -1.2777935 ,  1.        ],\n",
              "       [-0.61379566,  0.80993471, -0.81787578,  0.8354889 , -1.        ],\n",
              "       [ 1.21207966, -0.89011359, -1.00547445, -0.83299209, -1.        ],\n",
              "       [-0.9597416 ,  1.37562441, -1.68228541,  1.4321442 , -1.        ],\n",
              "       [-1.51620178,  1.82475081, -1.37023311,  1.86118626, -1.        ],\n",
              "       [ 0.51505671, -0.37628654, -0.43448594, -0.351717  , -1.        ],\n",
              "       [ 0.46602394, -0.78150323,  1.23635288, -0.82616903,  1.        ],\n",
              "       [-0.66519499,  0.446598  ,  0.7066161 ,  0.40889402,  1.        ],\n",
              "       [-1.37076889,  1.2203168 ,  0.34769388,  1.18812557,  1.        ],\n",
              "       [-0.52138608,  0.35155424,  0.5482862 ,  0.32223003, -1.        ],\n",
              "       [ 1.10154776, -1.17912291,  0.45389796, -1.18335909,  1.        ],\n",
              "       [-1.26916845,  1.58115274, -1.34540945,  1.619798  , -1.        ],\n",
              "       [ 1.11503198, -1.18104129,  0.41321422, -1.18343099,  1.        ],\n",
              "       [ 0.41202094, -0.77041669,  1.38671234, -0.8219612 ,  1.        ],\n",
              "       [ 1.03857599, -1.13773856,  0.52409239, -1.14567958,  1.        ],\n",
              "       [ 0.48569486, -0.35595215, -0.40559183, -0.33295261, -1.        ],\n",
              "       [ 0.76957993, -0.53720582, -0.74166508, -0.49669856, -1.        ],\n",
              "       [ 0.58203559, -0.4218752 , -0.50334326, -0.39360332, -1.        ],\n",
              "       [-0.61078998,  1.03563511, -1.66240443,  1.09589978, -1.        ],\n",
              "       [-0.81822292,  1.14241841, -1.32204267,  1.18599859, -1.        ],\n",
              "       [ 1.20943268, -1.2512288 ,  0.3380915 , -1.24930053,  1.        ],\n",
              "       [ 0.63872301, -0.45434066, -0.58422571, -0.4220073 , -1.        ],\n",
              "       [-1.25570135,  1.12071461,  0.30802978,  1.09165577,  1.        ],\n",
              "       [ 1.22635611, -0.8870403 , -1.06740727, -0.82718962, -1.        ],\n",
              "       [-1.74018109,  1.97666573, -1.13799616,  2.00063936, -1.        ],\n",
              "       [-0.60215866,  0.79993377, -0.82215316,  0.82581567, -1.        ],\n",
              "       [ 1.38990277, -1.01832221, -1.16177674, -0.95245961, -1.        ],\n",
              "       [-1.81279555,  1.40117772,  1.24547729,  1.32635134,  1.        ],\n",
              "       [-1.42196657,  1.30065204,  0.23226616,  1.27253037,  1.        ],\n",
              "       [ 1.01679039, -1.38500803,  1.51484376, -1.43390801,  1.        ],\n",
              "       [ 0.74795782, -0.56002914, -0.58073917, -0.52641113, -1.        ],\n",
              "       [ 0.9139477 , -1.07432226,  0.73132158, -1.09239983,  1.        ],\n",
              "       [ 0.58594456, -0.8571632 ,  1.09103773, -0.89429579,  1.        ],\n",
              "       [ 0.85219656, -0.6245814 , -0.71153598, -0.58423119, -1.        ],\n",
              "       [-0.85823108,  1.0739549 , -0.92735546,  1.1008087 , -1.        ],\n",
              "       [ 0.91598899, -1.067262  ,  0.6980047 , -1.08394511,  1.        ],\n",
              "       [ 0.44390808, -0.30444821, -0.44783914, -0.28026043, -1.        ],\n",
              "       [ 1.24481974, -0.91081313, -1.04498776, -0.85164152, -1.        ],\n",
              "       [ 0.11933918, -0.58200319,  1.72749728, -0.65136383,  1.        ],\n",
              "       [-0.46537702,  0.31173334,  0.49698273,  0.28524741, -1.        ],\n",
              "       [ 0.05764931, -0.55175212,  1.83428364, -0.62630309,  1.        ],\n",
              "       [ 0.74235086, -0.9578113 ,  0.90878425, -0.98541732,  1.        ],\n",
              "       [-0.88688154,  1.34964848, -1.84444019,  1.41377769, -1.        ],\n",
              "       [ 0.69274479, -0.9525323 ,  1.06502307, -0.98720092,  1.        ],\n",
              "       [-1.66219365,  1.47979734,  0.42145891,  1.44076862,  1.        ],\n",
              "       [-1.04287899,  0.82990571,  0.62848166,  0.79047283,  1.        ],\n",
              "       [ 0.76687343, -0.97624713,  0.89002005, -1.00276227,  1.        ],\n",
              "       [ 0.3916152 , -0.26275467, -0.41661991, -0.24053207, -1.        ],\n",
              "       [ 0.856457  , -1.27666607,  1.68258404, -1.33454813,  1.        ],\n",
              "       [-0.09259878,  0.25131792, -0.60047151,  0.27475928, -1.        ],\n",
              "       [ 0.88846262, -1.03488433,  0.67590066, -1.05101977,  1.        ],\n",
              "       [ 0.45222741, -0.31432547, -0.44081974, -0.29031713, -1.        ],\n",
              "       [-1.06149571,  0.9448893 ,  0.2696142 ,  0.91994599,  1.        ],\n",
              "       [ 1.0693048 , -1.14055919,  0.42564851, -1.14405705,  1.        ],\n",
              "       [ 0.11467404, -0.38098343,  1.00133049, -0.42059307,  1.        ],\n",
              "       [ 0.69018513, -0.4978617 , -0.60574977, -0.46397205, -1.        ],\n",
              "       [-0.15444306, -0.17261598,  1.18490879, -0.2232798 ,  1.        ],\n",
              "       [-0.45161042,  0.40266873,  0.11223793,  0.39215802, -1.        ],\n",
              "       [-0.5950841 ,  0.31537279,  0.94305848,  0.26887834,  1.        ],\n",
              "       [ 0.88773038, -1.04270564,  0.70739169, -1.06014349,  1.        ],\n",
              "       [ 1.63165114, -1.20207357, -1.3393414 , -1.12576141, -1.        ],\n",
              "       [-1.30388354,  1.61476341, -1.34660104,  1.65300384, -1.        ],\n",
              "       [-0.84737105,  0.96279794, -0.55514581,  0.97451303, -1.        ],\n",
              "       [ 1.0097683 , -0.74164025, -0.83728667, -0.69406789, -1.        ],\n",
              "       [ 1.04565199, -1.17580985,  0.63968322, -1.18840383,  1.        ],\n",
              "       [-0.87277666,  0.6854949 ,  0.55939348,  0.65112173,  1.        ],\n",
              "       [-1.16958775,  0.97190005,  0.55276445,  0.93391947,  1.        ],\n",
              "       [-0.52160754,  0.63894967, -0.51274993,  0.65318223, -1.        ],\n",
              "       [ 0.72903271, -0.95027284,  0.9281155 , -0.97884656,  1.        ],\n",
              "       [-0.52891925,  0.2654764 ,  0.89300059,  0.22190184,  1.        ],\n",
              "       [ 0.86188761, -1.04600573,  0.81113928, -1.06804061,  1.        ],\n",
              "       [ 1.0633885 , -0.75683406, -0.97111507, -0.70306667, -1.        ],\n",
              "       [-1.26480334,  1.53260352, -1.18150248,  1.56457682, -1.        ],\n",
              "       [-0.87366582,  0.42404689,  1.52849808,  0.34987658,  1.        ],\n",
              "       [ 0.52643094, -0.83876526,  1.23390711, -0.88254109,  1.        ],\n",
              "       [ 0.12597168, -0.59971212,  1.76942789, -0.67070748,  1.        ],\n",
              "       [-1.41534739,  1.68112738, -1.19690094,  1.71176511, -1.        ],\n",
              "       [-0.45645567,  0.4117412 ,  0.09588407,  0.40183855, -1.        ],\n",
              "       [-1.15926008,  1.0709315 ,  0.15029104,  1.04960901,  1.        ],\n",
              "       [-0.4803986 ,  0.59371645, -0.49162349,  0.60762032, -1.        ],\n",
              "       [-0.92779199,  1.2037117 , -1.16032104,  1.23922042, -1.        ],\n",
              "       [ 2.03624298, -1.50567244, -1.65103013, -1.4112759 , -1.        ],\n",
              "       [-0.63145774,  0.28689198,  1.17714801,  0.23031181,  1.        ],\n",
              "       [-0.55340922,  0.15270978,  1.3963942 ,  0.08814885,  1.        ],\n",
              "       [-0.92760577,  1.28512767, -1.46178295,  1.33301501, -1.        ],\n",
              "       [-0.99265744,  0.56783871,  1.41879981,  0.49661662,  1.        ],\n",
              "       [-1.2912509 ,  1.08915594,  0.55057132,  1.04967516,  1.        ],\n",
              "       [-0.41614819,  0.04559095,  1.3058749 , -0.01345969,  1.        ],\n",
              "       [-1.16001015,  1.42545215, -1.15687548,  1.45778415, -1.        ],\n",
              "       [ 0.20420942, -0.15811921, -0.13927425, -0.14973228, -1.        ],\n",
              "       [-1.56858179,  1.36027244,  0.53141447,  1.31795319,  1.        ],\n",
              "       [ 0.66842167, -0.47268005, -0.62168386, -0.4384207 , -1.        ],\n",
              "       [ 1.43854094, -1.37627019, -0.01160398, -1.35699092,  1.        ],\n",
              "       [-1.7910564 ,  1.69533794,  0.08164637,  1.6685755 ,  1.        ],\n",
              "       [ 1.00705109, -0.73121401, -0.86618135, -0.68249093, -1.        ],\n",
              "       [-1.340145  ,  1.67002461, -1.42230494,  1.71089901, -1.        ]])"
            ]
          },
          "metadata": {},
          "execution_count": 16
        }
      ]
    },
    {
      "cell_type": "code",
      "source": [],
      "metadata": {
        "id": "AamU4wZti0iy"
      },
      "execution_count": 16,
      "outputs": []
    },
    {
      "cell_type": "markdown",
      "source": [
        "**functions for logistic regression**"
      ],
      "metadata": {
        "id": "OtetRzJQrqEU"
      }
    },
    {
      "cell_type": "code",
      "source": [
        "def initalize(self,X):\n",
        "  weights = np.zero((X.shape[1]+1,1))\n",
        "  X = np.c_[np.ones((X.shape[0],1)),X]\n",
        "  return weights,X"
      ],
      "metadata": {
        "id": "rfiYSXm_jNv6"
      },
      "execution_count": 17,
      "outputs": []
    },
    {
      "cell_type": "code",
      "source": [
        "def sigmoid(self,z):\n",
        "  sig = 1/1+math.e**(-z)\n",
        "  return sig"
      ],
      "metadata": {
        "id": "q7I-DDLYj_BM"
      },
      "execution_count": 18,
      "outputs": []
    },
    {
      "cell_type": "code",
      "source": [
        "def cost(self,theta):\n",
        "  z = np.dot(X,theta)\n",
        "  cost0 = y.T.dot(math.log(self.sigmoid(z)))\n",
        "  cost1 = (1-y).T.dot(math.log(1-self.sigmoid(z)))\n",
        "\n",
        "  cost = -((cost1+cost0))/len(y)\n",
        "  return cost"
      ],
      "metadata": {
        "id": "uL6tdxGdkxMC"
      },
      "execution_count": 19,
      "outputs": []
    },
    {
      "cell_type": "code",
      "source": [
        "def fit(self,X,y,alpha = 0.001,itr = 100):\n",
        "  para , X = self.initalize(X)\n",
        "  cost_list = np.zero(itr)\n",
        "  for i in range(itr):\n",
        "    para  = para-alpha*np.dot(X.T,self.sigmoid(np.dot(X,para) - np.reshape(y,(len (y),1))))\n",
        "    cost_list[i] = cost(para)\n",
        "    self.para = para\n",
        "    return cost_list"
      ],
      "metadata": {
        "id": "Pd2Z4XHFmth7"
      },
      "execution_count": 20,
      "outputs": []
    },
    {
      "cell_type": "code",
      "source": [
        "def predict(self,X):\n",
        "  Z = np.dot(self.initialize(X)[1],self.weights)\n",
        "  lis = []\n",
        "  for i in self.sigmoid(Z):\n",
        "    if (i>0.5):\n",
        "      lis.append(1)\n",
        "    else:\n",
        "      lis.append(0)\n",
        "    return lis "
      ],
      "metadata": {
        "id": "1CemwtYpo8mb"
      },
      "execution_count": 21,
      "outputs": []
    },
    {
      "cell_type": "code",
      "source": [
        "from sklearn.linear_model import LogisticRegression\n",
        "\n",
        "clf = LogisticRegression(random_state = 0)\n",
        "clf.fit(X_train, y_train)\n"
      ],
      "metadata": {
        "colab": {
          "base_uri": "https://localhost:8080/",
          "height": 130
        },
        "id": "9DOLHb9Cqsyo",
        "outputId": "7c9ddab5-687b-4964-b0dc-684e0ed0b6bb"
      },
      "execution_count": 22,
      "outputs": [
        {
          "output_type": "stream",
          "name": "stderr",
          "text": [
            "/usr/local/lib/python3.9/dist-packages/sklearn/utils/validation.py:1143: DataConversionWarning: A column-vector y was passed when a 1d array was expected. Please change the shape of y to (n_samples, ), for example using ravel().\n",
            "  y = column_or_1d(y, warn=True)\n"
          ]
        },
        {
          "output_type": "execute_result",
          "data": {
            "text/plain": [
              "LogisticRegression(random_state=0)"
            ],
            "text/html": [
              "<style>#sk-container-id-1 {color: black;background-color: white;}#sk-container-id-1 pre{padding: 0;}#sk-container-id-1 div.sk-toggleable {background-color: white;}#sk-container-id-1 label.sk-toggleable__label {cursor: pointer;display: block;width: 100%;margin-bottom: 0;padding: 0.3em;box-sizing: border-box;text-align: center;}#sk-container-id-1 label.sk-toggleable__label-arrow:before {content: \"▸\";float: left;margin-right: 0.25em;color: #696969;}#sk-container-id-1 label.sk-toggleable__label-arrow:hover:before {color: black;}#sk-container-id-1 div.sk-estimator:hover label.sk-toggleable__label-arrow:before {color: black;}#sk-container-id-1 div.sk-toggleable__content {max-height: 0;max-width: 0;overflow: hidden;text-align: left;background-color: #f0f8ff;}#sk-container-id-1 div.sk-toggleable__content pre {margin: 0.2em;color: black;border-radius: 0.25em;background-color: #f0f8ff;}#sk-container-id-1 input.sk-toggleable__control:checked~div.sk-toggleable__content {max-height: 200px;max-width: 100%;overflow: auto;}#sk-container-id-1 input.sk-toggleable__control:checked~label.sk-toggleable__label-arrow:before {content: \"▾\";}#sk-container-id-1 div.sk-estimator input.sk-toggleable__control:checked~label.sk-toggleable__label {background-color: #d4ebff;}#sk-container-id-1 div.sk-label input.sk-toggleable__control:checked~label.sk-toggleable__label {background-color: #d4ebff;}#sk-container-id-1 input.sk-hidden--visually {border: 0;clip: rect(1px 1px 1px 1px);clip: rect(1px, 1px, 1px, 1px);height: 1px;margin: -1px;overflow: hidden;padding: 0;position: absolute;width: 1px;}#sk-container-id-1 div.sk-estimator {font-family: monospace;background-color: #f0f8ff;border: 1px dotted black;border-radius: 0.25em;box-sizing: border-box;margin-bottom: 0.5em;}#sk-container-id-1 div.sk-estimator:hover {background-color: #d4ebff;}#sk-container-id-1 div.sk-parallel-item::after {content: \"\";width: 100%;border-bottom: 1px solid gray;flex-grow: 1;}#sk-container-id-1 div.sk-label:hover label.sk-toggleable__label {background-color: #d4ebff;}#sk-container-id-1 div.sk-serial::before {content: \"\";position: absolute;border-left: 1px solid gray;box-sizing: border-box;top: 0;bottom: 0;left: 50%;z-index: 0;}#sk-container-id-1 div.sk-serial {display: flex;flex-direction: column;align-items: center;background-color: white;padding-right: 0.2em;padding-left: 0.2em;position: relative;}#sk-container-id-1 div.sk-item {position: relative;z-index: 1;}#sk-container-id-1 div.sk-parallel {display: flex;align-items: stretch;justify-content: center;background-color: white;position: relative;}#sk-container-id-1 div.sk-item::before, #sk-container-id-1 div.sk-parallel-item::before {content: \"\";position: absolute;border-left: 1px solid gray;box-sizing: border-box;top: 0;bottom: 0;left: 50%;z-index: -1;}#sk-container-id-1 div.sk-parallel-item {display: flex;flex-direction: column;z-index: 1;position: relative;background-color: white;}#sk-container-id-1 div.sk-parallel-item:first-child::after {align-self: flex-end;width: 50%;}#sk-container-id-1 div.sk-parallel-item:last-child::after {align-self: flex-start;width: 50%;}#sk-container-id-1 div.sk-parallel-item:only-child::after {width: 0;}#sk-container-id-1 div.sk-dashed-wrapped {border: 1px dashed gray;margin: 0 0.4em 0.5em 0.4em;box-sizing: border-box;padding-bottom: 0.4em;background-color: white;}#sk-container-id-1 div.sk-label label {font-family: monospace;font-weight: bold;display: inline-block;line-height: 1.2em;}#sk-container-id-1 div.sk-label-container {text-align: center;}#sk-container-id-1 div.sk-container {/* jupyter's `normalize.less` sets `[hidden] { display: none; }` but bootstrap.min.css set `[hidden] { display: none !important; }` so we also need the `!important` here to be able to override the default hidden behavior on the sphinx rendered scikit-learn.org. See: https://github.com/scikit-learn/scikit-learn/issues/21755 */display: inline-block !important;position: relative;}#sk-container-id-1 div.sk-text-repr-fallback {display: none;}</style><div id=\"sk-container-id-1\" class=\"sk-top-container\"><div class=\"sk-text-repr-fallback\"><pre>LogisticRegression(random_state=0)</pre><b>In a Jupyter environment, please rerun this cell to show the HTML representation or trust the notebook. <br />On GitHub, the HTML representation is unable to render, please try loading this page with nbviewer.org.</b></div><div class=\"sk-container\" hidden><div class=\"sk-item\"><div class=\"sk-estimator sk-toggleable\"><input class=\"sk-toggleable__control sk-hidden--visually\" id=\"sk-estimator-id-1\" type=\"checkbox\" checked><label for=\"sk-estimator-id-1\" class=\"sk-toggleable__label sk-toggleable__label-arrow\">LogisticRegression</label><div class=\"sk-toggleable__content\"><pre>LogisticRegression(random_state=0)</pre></div></div></div></div></div>"
            ]
          },
          "metadata": {},
          "execution_count": 22
        }
      ]
    },
    {
      "cell_type": "code",
      "source": [
        "clf = clf.fit(X_train,y_train)"
      ],
      "metadata": {
        "colab": {
          "base_uri": "https://localhost:8080/"
        },
        "id": "tYhirj-MuvA4",
        "outputId": "99b80d08-cb93-4f33-f94b-892d7ab754b3"
      },
      "execution_count": 23,
      "outputs": [
        {
          "output_type": "stream",
          "name": "stderr",
          "text": [
            "/usr/local/lib/python3.9/dist-packages/sklearn/utils/validation.py:1143: DataConversionWarning: A column-vector y was passed when a 1d array was expected. Please change the shape of y to (n_samples, ), for example using ravel().\n",
            "  y = column_or_1d(y, warn=True)\n"
          ]
        }
      ]
    },
    {
      "cell_type": "code",
      "source": [
        "clf = clf.fit(X_test,y_test)"
      ],
      "metadata": {
        "colab": {
          "base_uri": "https://localhost:8080/"
        },
        "id": "Ro_-FH0su1fQ",
        "outputId": "9593adef-5958-4664-bed1-cc2593f0d712"
      },
      "execution_count": 24,
      "outputs": [
        {
          "output_type": "stream",
          "name": "stderr",
          "text": [
            "/usr/local/lib/python3.9/dist-packages/sklearn/utils/validation.py:1143: DataConversionWarning: A column-vector y was passed when a 1d array was expected. Please change the shape of y to (n_samples, ), for example using ravel().\n",
            "  y = column_or_1d(y, warn=True)\n"
          ]
        }
      ]
    },
    {
      "cell_type": "code",
      "source": [
        "y_train_pred = clf.predict(X_train)\n",
        "y_test_pred = clf.predict(X_test)"
      ],
      "metadata": {
        "id": "vN77r543uBKm"
      },
      "execution_count": 25,
      "outputs": []
    },
    {
      "cell_type": "code",
      "source": [
        "from sklearn.metrics import accuracy_score,confusion_matrix"
      ],
      "metadata": {
        "id": "VARJlCoOvA6p"
      },
      "execution_count": 26,
      "outputs": []
    },
    {
      "cell_type": "code",
      "source": [
        "print(\"Accuracy:\",accuracy_score(y_test,y_test_pred))"
      ],
      "metadata": {
        "colab": {
          "base_uri": "https://localhost:8080/"
        },
        "id": "vCTFZ4IeutPZ",
        "outputId": "e2b23b66-de84-4bd7-943f-39aabf0ba671"
      },
      "execution_count": 27,
      "outputs": [
        {
          "output_type": "stream",
          "name": "stdout",
          "text": [
            "Accuracy: 0.9\n"
          ]
        }
      ]
    }
  ]
}